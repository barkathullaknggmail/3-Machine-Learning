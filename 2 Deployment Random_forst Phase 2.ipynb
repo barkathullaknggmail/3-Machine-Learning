{
 "cells": [
  {
   "cell_type": "code",
   "execution_count": 3,
   "id": "e7d7df86-346b-4bac-bd21-a7f75768e06e",
   "metadata": {},
   "outputs": [
    {
     "name": "stdin",
     "output_type": "stream",
     "text": [
      "Enter R&D_Spend 1245\n",
      "Adminisration 345\n",
      "Marketing_Spend 4565\n",
      "State_Florida 0 or 1 : 1\n",
      "State_Florida 0 or 1 : 0\n"
     ]
    },
    {
     "name": "stderr",
     "output_type": "stream",
     "text": [
      "C:\\Anaconda3\\Lib\\site-packages\\sklearn\\base.py:493: UserWarning: X does not have valid feature names, but RandomForestRegressor was fitted with feature names\n",
      "  warnings.warn(\n"
     ]
    },
    {
     "data": {
      "text/plain": [
       "array([47938.381])"
      ]
     },
     "execution_count": 3,
     "metadata": {},
     "output_type": "execute_result"
    }
   ],
   "source": [
    "import pickle\n",
    "load_model=pickle.load(open(\"Finalized_Model_Random_forest.sav\",'rb'))\n",
    "rd=int(input(\"Enter R&D_Spend\"))\n",
    "admin=int(input(\"Adminisration\"))\n",
    "marketing=int(input(\"Marketing_Spend\"))\n",
    "state_florida=int(input(\"State_Florida 0 or 1 :\"))\n",
    "state_newyork=int(input(\"State_Florida 0 or 1 :\"))\n",
    "result=load_model.predict([[rd,admin,marketing,state_florida,state_newyork]])\n",
    "result\n",
    "                "
   ]
  },
  {
   "cell_type": "code",
   "execution_count": 5,
   "id": "2778239b-ae45-481e-8f1b-f6bd3cb6c088",
   "metadata": {},
   "outputs": [
    {
     "name": "stderr",
     "output_type": "stream",
     "text": [
      "C:\\Anaconda3\\Lib\\site-packages\\sklearn\\base.py:493: UserWarning: X does not have valid feature names, but RandomForestRegressor was fitted with feature names\n",
      "  warnings.warn(\n"
     ]
    },
    {
     "data": {
      "text/plain": [
       "array([47938.381])"
      ]
     },
     "execution_count": 5,
     "metadata": {},
     "output_type": "execute_result"
    }
   ],
   "source": [
    "result=load_model.predict([[1234,345,4565,1,0]])\n",
    "result"
   ]
  },
  {
   "cell_type": "code",
   "execution_count": null,
   "id": "b8a9ce31-253b-4303-a570-caaada579d17",
   "metadata": {},
   "outputs": [],
   "source": []
  }
 ],
 "metadata": {
  "kernelspec": {
   "display_name": "Python 3 (ipykernel)",
   "language": "python",
   "name": "python3"
  },
  "language_info": {
   "codemirror_mode": {
    "name": "ipython",
    "version": 3
   },
   "file_extension": ".py",
   "mimetype": "text/x-python",
   "name": "python",
   "nbconvert_exporter": "python",
   "pygments_lexer": "ipython3",
   "version": "3.12.7"
  }
 },
 "nbformat": 4,
 "nbformat_minor": 5
}
