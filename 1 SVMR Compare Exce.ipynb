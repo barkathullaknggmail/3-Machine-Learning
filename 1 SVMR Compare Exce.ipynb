{
 "cells": [
  {
   "cell_type": "code",
   "execution_count": 1,
   "id": "2d2b40bc-475c-4dbc-b98f-4934e883f456",
   "metadata": {},
   "outputs": [],
   "source": [
    "import pandas as pd"
   ]
  },
  {
   "cell_type": "code",
   "execution_count": 2,
   "id": "7a17f5c7-bbc7-4541-9074-faef0b3088c4",
   "metadata": {},
   "outputs": [],
   "source": [
    "dataset = pd.read_csv(\"50_Startups.csv\")"
   ]
  },
  {
   "cell_type": "code",
   "execution_count": 5,
   "id": "ebd6c2cd-3a86-4748-ab7b-6225a2d565e5",
   "metadata": {},
   "outputs": [],
   "source": [
    "dataset=pd.get_dummies(dataset,drop_first=True)"
   ]
  },
  {
   "cell_type": "code",
   "execution_count": 7,
   "id": "46778a00-9c29-4be5-b3c9-8e36dc18f085",
   "metadata": {},
   "outputs": [
    {
     "data": {
      "text/plain": [
       "Index(['R&D Spend', 'Administration', 'Marketing Spend', 'Profit',\n",
       "       'State_Florida', 'State_New York'],\n",
       "      dtype='object')"
      ]
     },
     "execution_count": 7,
     "metadata": {},
     "output_type": "execute_result"
    }
   ],
   "source": [
    "dataset.columns"
   ]
  },
  {
   "cell_type": "code",
   "execution_count": 9,
   "id": "9ad63621-1763-43dc-ae89-cbae1085c612",
   "metadata": {},
   "outputs": [],
   "source": [
    "independent=dataset[['R&D Spend','Administration','Marketing Spend','State_Florida','State_New York']]"
   ]
  },
  {
   "cell_type": "code",
   "execution_count": 11,
   "id": "03e5b3c1-d34f-4395-8712-ef3699238096",
   "metadata": {},
   "outputs": [],
   "source": [
    "dependent=dataset[['Profit']]"
   ]
  },
  {
   "cell_type": "code",
   "execution_count": 13,
   "id": "5f0668da-ed3f-463e-9355-8c4933361ed5",
   "metadata": {},
   "outputs": [],
   "source": [
    "from sklearn.model_selection import train_test_split\n",
    "x_train,x_test,y_train,y_test=train_test_split(independent,dependent,test_size=0.3,random_state=0)"
   ]
  },
  {
   "cell_type": "code",
   "execution_count": null,
   "id": "a3701865-1078-42db-9ba1-8ea010f98eeb",
   "metadata": {},
   "outputs": [
    {
     "name": "stderr",
     "output_type": "stream",
     "text": [
      "C:\\Anaconda3\\Lib\\site-packages\\sklearn\\utils\\validation.py:1339: DataConversionWarning: A column-vector y was passed when a 1d array was expected. Please change the shape of y to (n_samples, ), for example using ravel().\n",
      "  y = column_or_1d(y, warn=True)\n"
     ]
    }
   ],
   "source": [
    "from sklearn.svm import SVR\n",
    "regressor = SVR(kernel='linear',C=500.0)\n",
    "regressor.fit(x_train,y_train)\n",
    "y_pred=regressor.predict(x_test)\n",
    "from sklearn.metrics import r2_score\n",
    "r_score=r2_score(y_test,y_pred)\n",
    "r_score"
   ]
  },
  {
   "cell_type": "code",
   "execution_count": null,
   "id": "939f5ad6-8ef9-4355-b618-74bf0154c173",
   "metadata": {},
   "outputs": [],
   "source": [
    "weight=regressor.coef_\n",
    "weight"
   ]
  },
  {
   "cell_type": "code",
   "execution_count": null,
   "id": "897bbf99-90c7-47b6-b75f-58ffd52b4b50",
   "metadata": {},
   "outputs": [],
   "source": [
    "bias= regressor.intercept_\n",
    "bias"
   ]
  },
  {
   "cell_type": "code",
   "execution_count": null,
   "id": "a584abd4-fafa-499c-a139-7eaa9c2140da",
   "metadata": {},
   "outputs": [],
   "source": [
    "regressor.n_support_"
   ]
  },
  {
   "cell_type": "code",
   "execution_count": null,
   "id": "279a33d9-a71a-4fe5-a00c-6f888d6b8e55",
   "metadata": {},
   "outputs": [],
   "source": [
    "regressor.support_"
   ]
  },
  {
   "cell_type": "code",
   "execution_count": null,
   "id": "4b614172-9246-4ffb-b0b8-19d9ec8ec99e",
   "metadata": {},
   "outputs": [],
   "source": [
    "y_pred=regressor.predict(x_test)\n",
    "from sklearn.metrics import r2_score\n",
    "r_score=r2_score(y_test,y_pred)\n",
    "r_score"
   ]
  },
  {
   "cell_type": "code",
   "execution_count": null,
   "id": "c16286d8-773d-406f-aa46-e332a0ed8ae9",
   "metadata": {},
   "outputs": [],
   "source": [
    "r_score"
   ]
  },
  {
   "cell_type": "code",
   "execution_count": null,
   "id": "9a630d4c-a3d0-49c8-86b3-895776f649a4",
   "metadata": {},
   "outputs": [],
   "source": [
    "# This model is not goog so try nother model\n",
    "# go rbf kernel\n",
    "from sklearn.svm import SVR\n",
    "regressor = SVR(kernel='rbf')\n",
    "regressor.fit(x_train,y_train)"
   ]
  },
  {
   "cell_type": "code",
   "execution_count": null,
   "id": "67a4140f-083d-4eb0-b339-548397f663c0",
   "metadata": {},
   "outputs": [],
   "source": [
    "bias= regressor.intercept_\n",
    "bias"
   ]
  },
  {
   "cell_type": "code",
   "execution_count": null,
   "id": "ca429b74-88d9-4169-ac93-b19ff868f1a2",
   "metadata": {},
   "outputs": [],
   "source": [
    "regressor.n_support_"
   ]
  },
  {
   "cell_type": "code",
   "execution_count": null,
   "id": "1a60a544-b7e7-4ff7-8841-5328e642a373",
   "metadata": {},
   "outputs": [],
   "source": [
    "regressor.support_"
   ]
  },
  {
   "cell_type": "code",
   "execution_count": null,
   "id": "6736d11d-0636-48cc-910a-7934b2f30839",
   "metadata": {},
   "outputs": [],
   "source": [
    "y_pred=regressor.predict(x_test)"
   ]
  },
  {
   "cell_type": "code",
   "execution_count": null,
   "id": "bd36c7b8-d6a2-4879-b16f-e2f298183202",
   "metadata": {},
   "outputs": [],
   "source": [
    "from sklearn.metrics import r2_score\n",
    "r_score=r2_score(y_test,y_pred)"
   ]
  },
  {
   "cell_type": "code",
   "execution_count": null,
   "id": "20878f28-f99f-41d7-bba2-7c7be1babec0",
   "metadata": {},
   "outputs": [],
   "source": [
    "r_score"
   ]
  },
  {
   "cell_type": "code",
   "execution_count": null,
   "id": "b05a2261-d8ee-4744-b53f-8ef781038c08",
   "metadata": {},
   "outputs": [],
   "source": [
    "# Above model is not a good model"
   ]
  },
  {
   "cell_type": "code",
   "execution_count": null,
   "id": "24b1d8ce-61e5-40df-9819-aab886f58683",
   "metadata": {},
   "outputs": [],
   "source": []
  }
 ],
 "metadata": {
  "kernelspec": {
   "display_name": "Python 3 (ipykernel)",
   "language": "python",
   "name": "python3"
  },
  "language_info": {
   "codemirror_mode": {
    "name": "ipython",
    "version": 3
   },
   "file_extension": ".py",
   "mimetype": "text/x-python",
   "name": "python",
   "nbconvert_exporter": "python",
   "pygments_lexer": "ipython3",
   "version": "3.12.7"
  }
 },
 "nbformat": 4,
 "nbformat_minor": 5
}
